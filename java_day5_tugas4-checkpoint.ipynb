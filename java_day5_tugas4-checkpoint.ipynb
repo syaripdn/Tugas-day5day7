{
 "cells": [
  {
   "cell_type": "markdown",
   "metadata": {},
   "source": [
    "[2] Kompunen Method / Fungsi\n",
    "2.1 Method Tanpa Parameter\n",
    "\n"
   ]
  },
  {
   "cell_type": "code",
   "execution_count": 2,
   "metadata": {},
   "outputs": [
    {
     "data": {
      "text/plain": [
       "com.twosigma.beaker.javash.bkr4356d324.Calculator3"
      ]
     },
     "execution_count": 2,
     "metadata": {},
     "output_type": "execute_result"
    }
   ],
   "source": [
    "//Program 5.6 Class Calculator3\n",
    "class Calculator3{\n",
    "    int x;\n",
    "    int y;\n",
    "    int hasil;\n",
    "\n",
    "  void doTambah(){\n",
    "     System.out.println(\"Operasi Tambah\");  \n",
    "     hasil = x + y;\n",
    "  }    \n",
    "\n",
    "}"
   ]
  },
  {
   "cell_type": "code",
   "execution_count": 3,
   "metadata": {},
   "outputs": [
    {
     "name": "stdout",
     "output_type": "stream",
     "text": [
      "Operasi Tambah\n",
      "Hasil 30\n"
     ]
    },
    {
     "data": {
      "text/plain": [
       "null"
      ]
     },
     "execution_count": 3,
     "metadata": {},
     "output_type": "execute_result"
    }
   ],
   "source": [
    "//Program 5.7 Implementasi Class Calculator2\n",
    "Calculator3 varobjCalculator = new Calculator3();\n",
    "varobjCalculator.x = 20;\n",
    "varobjCalculator.y = 10;\n",
    "varobjCalculator.doTambah();\n",
    "System.out.println(\"Hasil \"+ varobjCalculator.hasil);"
   ]
  },
  {
   "cell_type": "code",
   "execution_count": null,
   "metadata": {},
   "outputs": [],
   "source": []
  },
  {
   "cell_type": "code",
   "execution_count": null,
   "metadata": {},
   "outputs": [],
   "source": []
  },
  {
   "cell_type": "code",
   "execution_count": 4,
   "metadata": {},
   "outputs": [
    {
     "data": {
      "text/plain": [
       "com.twosigma.beaker.javash.bkr4356d324.Calculator4"
      ]
     },
     "execution_count": 4,
     "metadata": {},
     "output_type": "execute_result"
    }
   ],
   "source": [
    "//Program 5.7 Class Calculator4\n",
    "class Calculator4{\n",
    "    int x;\n",
    "    int y;\n",
    "    int hasil;\n",
    "\n",
    "  void doTambah(){\n",
    "     System.out.println(\"Operasi Tambah\");  \n",
    "     hasil = x + y;\n",
    "  }   \n",
    "\n",
    "\n",
    "  void ProsedurHitung(char simbol){\n",
    "     if(simbol == '+'){\n",
    "\n",
    "        this.doTambah();\n",
    "\n",
    "     }      \n",
    "  }  \n",
    "\n",
    "}\n"
   ]
  },
  {
   "cell_type": "code",
   "execution_count": null,
   "metadata": {},
   "outputs": [],
   "source": [
    "//Program 5.9 Class Calculator5\n",
    "\n",
    "class Calculator5{\n",
    "    int x;\n",
    "    int y;\n",
    "    int hasil;\n",
    "\n",
    "  void doTambah(){\n",
    "     System.out.println(\"Operasi Tambah\");  \n",
    "     hasil = x + y;\n",
    "  }   \n",
    "\n",
    "  void prosedurHitung(char simbol){\n",
    "     if(simbol == '+'){\n",
    "\n",
    "        this.doTambah();\n",
    "\n",
    "     }      \n",
    "  }  \n",
    "\n",
    "  int fungsiHitung(char simbol){\n",
    "     if(simbol == '+'){\n",
    "\n",
    "        this.doTambah();\n",
    "\n",
    "     }\n",
    "     return hasil; \n",
    "  }    \n",
    "}"
   ]
  },
  {
   "cell_type": "code",
   "execution_count": null,
   "metadata": {},
   "outputs": [],
   "source": [
    "//Program 5.11 Class Calculator6 dengan konstrukor\n",
    "\n",
    "class Calculator6{\n",
    "    int x;\n",
    "    int y;\n",
    "    int hasil;\n",
    "    \n",
    "  Calculator6(int varX, int varY){\n",
    "    x = varX;  \n",
    "    y = varY;  \n",
    "  }\n",
    "    \n",
    "  void doTambah(){\n",
    "     System.out.println(\"Operasi Tambah\");  \n",
    "     hasil = x + y;\n",
    "  }   \n",
    "\n",
    "  void prosedurHitung(char simbol){\n",
    "     if(simbol == '+'){\n",
    "         \n",
    "        this.doTambah();\n",
    "         \n",
    "     }      \n",
    "  }  \n",
    "   \n",
    "  int fungsiHitung(char simbol){\n",
    "     if(simbol == '+'){\n",
    "         \n",
    "        this.doTambah();\n",
    "         \n",
    "     }\n",
    "     return hasil; \n",
    "  }    \n",
    "}s"
   ]
  }
 ],
 "metadata": {
  "kernelspec": {
   "display_name": "Java",
   "language": "java",
   "name": "java"
  },
  "language_info": {
   "codemirror_mode": "text/x-java",
   "file_extension": ".java",
   "mimetype": "",
   "name": "Java",
   "nbconverter_exporter": "",
   "version": "1.8.0_121"
  },
  "toc": {
   "base_numbering": 1,
   "nav_menu": {},
   "number_sections": false,
   "sideBar": false,
   "skip_h1_title": false,
   "title_cell": "Table of Contents",
   "title_sidebar": "Contents",
   "toc_cell": false,
   "toc_position": {},
   "toc_section_display": false,
   "toc_window_display": false
  }
 },
 "nbformat": 4,
 "nbformat_minor": 2
}
