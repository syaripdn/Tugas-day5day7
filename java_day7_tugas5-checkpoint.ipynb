{
 "cells": [
  {
   "cell_type": "markdown",
   "metadata": {},
   "source": [
    "Soal 7.1\n",
    "Implementasikan kode berikut yang merupakan contoh dan cara mengakses data dari array dua dimensi:"
   ]
  },
  {
   "cell_type": "code",
   "execution_count": 6,
   "metadata": {},
   "outputs": [
    {
     "name": "stdout",
     "output_type": "stream",
     "text": [
      "Nama Lili\n",
      "NIM 08111\n",
      "Nama Lala\n",
      "NIM 08122\n",
      "Nama Maya\n",
      "NIM 08133\n"
     ]
    },
    {
     "data": {
      "text/plain": [
       "null"
      ]
     },
     "execution_count": 6,
     "metadata": {},
     "output_type": "execute_result"
    }
   ],
   "source": [
    "//program 7.1\n",
    "\n",
    " String[][] Siswa = {\n",
    "    {\"Lili\",\"08111\"},\n",
    "    {\"Lala\",\"08122\"},\n",
    "    {\"Maya\",\"08133\"}\n",
    "};\n",
    "\n",
    "for(int x=0; x < Siswa.length; x++){\n",
    "    System.out.println(\"Nama \"+Siswa[x][0]);\n",
    "    System.out.println(\"NIM \"+Siswa[x][1]);\n",
    "}"
   ]
  },
  {
   "cell_type": "markdown",
   "metadata": {},
   "source": [
    "Soal 7.2\n",
    "Terdapat sebuah data tabular Mahasiswa dengan dengan tabel sebagai berikut :\n",
    "\n",
    "|  NIM  |  Nama  |IPK|     \n",
    "|\"08111\"|\"Dono  \"|3.0|\n",
    "|\"08113\"|\"Kasino\"|2.7|\n",
    "|\"08115\"|\"Indro \"|3.1|\n",
    "\n",
    "Implementasikan data tabular Mahasiswa diatas dalam sebuah array multi dimensi kedalam program 7.2"
   ]
  },
  {
   "cell_type": "code",
   "execution_count": null,
   "metadata": {},
   "outputs": [],
   "source": [
    "//program 7.1\n",
    "\n",
    " String[][] Siswa = {\n",
    "    {\"Dono\",\"08111\"},\n",
    "    {\"Ksino\",\"08122\"},\n",
    "    {\"Indro\",\"08133\"}\n",
    "};\n",
    "\n",
    "for(int x=0; x < Siswa.length; x++){\n",
    "    System.out.println(\"Nama \"+Siswa[x][0]);\n",
    "    System.out.println(\"NIM \"+Siswa[x][1]);\n",
    "    System.out.println(\"IPK\"+Siswa[x][0]);\n",
    "    \n",
    "}"
   ]
  },
  {
   "cell_type": "markdown",
   "metadata": {},
   "source": [
    "Soal 7.4\n",
    "Implementasikan kode Program 7.4 dibawah ini, lakukan juga inisisiali untuk element element dari array yang dibutuhkan\n",
    "\n"
   ]
  },
  {
   "cell_type": "code",
   "execution_count": 10,
   "metadata": {},
   "outputs": [
    {
     "ename": "cannot find symbol",
     "evalue": "cannot find symbol",
     "output_type": "error",
     "traceback": [
      "\u001b[1;31mcannot find symbol\u001b[0;0m",
      "\u001b[1;31m  symbol:   class PersegiPanjang\u001b[0;0m",
      "\u001b[0;31m  location: class com.twosigma.beaker.javash.bkrd970948a.BeakerWrapperClass1261714175Idf709166de3654228a0523e8c5eb544e6\u001b[0;0m",
      "\u001b[0;31m PersegiPanjang [] myArray = new PersegiPanja\u001b[0;0m",
      "\u001b[0;31m ^             ^                               \u001b[0;0m",
      "\u001b[0;31m\u001b[0;0m",
      "\u001b[0;31mcannot find symbol\u001b[0;0m",
      "\u001b[0;31m  symbol:   class PersegiPanjang\u001b[0;0m",
      "\u001b[0;31m  location: class com.twosigma.beaker.javash.bkrd970948a.BeakerWrapperClass1261714175Idf709166de3654228a0523e8c5eb544e6\u001b[0;0m",
      "\u001b[0;31mersegiPanjang [] myArray = new PersegiPanjang [3]\u001b[0;0m",
      "\u001b[0;31m                               ^             ^     \u001b[0;0m",
      "\u001b[0;31m\u001b[0;0m",
      "\u001b[0;31mcannot find symbol\u001b[0;0m",
      "\u001b[0;31m  symbol:   class PersegiPanjang\u001b[0;0m",
      "\u001b[0;31m  location: class com.twosigma.beaker.javash.bkrd970948a.BeakerWrapperClass1261714175Idf709166de3654228a0523e8c5eb544e6\u001b[0;0m",
      "\u001b[0;31m myArray[0] = new PersegiPanjang()\u001b[0;0m",
      "\u001b[0;31m                  ^             ^   \u001b[0;0m"
     ]
    }
   ],
   "source": [
    "PersegiPanjang [] myArray = new PersegiPanjang [3];\n",
    "\n",
    "        myArray[0] = new PersegiPanjang();\n",
    "        myArray[0].setPanjang(10); \n",
    "        myArray[0].setLebar(5);\n",
    "\n",
    "        System.out.println(\"Luas Element ke 0 \"+ myArray[0].getLuas());\n",
    "\n",
    "        /*\n",
    "         Lakukan inisialisasi Objek PersegiPanjang elemen ke 2 dan ke 3 disini \n",
    "        */\n",
    "\n",
    "        for (int i = 0; i < myArray.length; i++) {\n",
    "            System.out.println(\"Luas Element ke \"+i+\" \"+ myArray[i].getLuas());\n",
    "\n",
    "        }"
   ]
  },
  {
   "cell_type": "code",
   "execution_count": 12,
   "metadata": {},
   "outputs": [
    {
     "name": "stdout",
     "output_type": "stream",
     "text": [
      "[Senter Pembesar, 532, 1231234.132, true]\n",
      "Kantong ajaib berisi 4 item\n"
     ]
    },
    {
     "data": {
      "text/plain": [
       "null"
      ]
     },
     "execution_count": 12,
     "metadata": {},
     "output_type": "execute_result"
    }
   ],
   "source": [
    "        import java.util.ArrayList;\n",
    "\n",
    "        ArrayList kantongAjaib = new ArrayList();\n",
    "\n",
    "        // Mengisi kantong ajaib dengan 5 benda\n",
    "        kantongAjaib.add(\"Senter Pembesar\");\n",
    "        kantongAjaib.add(532);\n",
    "        kantongAjaib.add(\"tikus\");\n",
    "        kantongAjaib.add(1231234.132);\n",
    "        kantongAjaib.add(true);\n",
    "\n",
    "        // menghapus tikus dari kantong ajaib\n",
    "        kantongAjaib.remove(\"tikus\");\n",
    "\n",
    "        // Menampilkan isi kantong ajaib\n",
    "        System.out.println(kantongAjaib);\n",
    "\n",
    "        // menampilkan banyak isi kantong ajaib\n",
    "        System.out.println(\"Kantong ajaib berisi \"+ kantongAjaib.size() +\" item\");"
   ]
  },
  {
   "cell_type": "markdown",
   "metadata": {},
   "source": [
    "Soal 7.6\n",
    "Lakukan eksekusi dari kode diatas dan amati hasilnya\n",
    "menghasilkan niai true"
   ]
  },
  {
   "cell_type": "markdown",
   "metadata": {},
   "source": [
    "Soal 7.7"
   ]
  },
  {
   "cell_type": "code",
   "execution_count": 14,
   "metadata": {},
   "outputs": [
    {
     "name": "stdout",
     "output_type": "stream",
     "text": [
      "Isi objek days: {1=Minggu, 2=Senin, 3=Selasa, 4=Rabu, 5=Kamis, 6=Jum'at, 7=Sabtu}\n"
     ]
    },
    {
     "data": {
      "text/plain": [
       "null"
      ]
     },
     "execution_count": 14,
     "metadata": {},
     "output_type": "execute_result"
    }
   ],
   "source": [
    "import java.util.HashMap;\n",
    "\n",
    "        //Program 7.7\n",
    "\n",
    "        // membuat objek hashmap\n",
    "        HashMap<Integer, String> hari = new HashMap<Integer,String>();\n",
    "\n",
    "        // mengisi nilai ke objek days\n",
    "        hari.put(1, \"Minggu\");\n",
    "        hari.put(2, \"Senin\");\n",
    "        hari.put(3, \"Selasa\");\n",
    "        hari.put(4, \"Rabu\");\n",
    "        hari.put(5, \"Kamis\");\n",
    "        hari.put(6, \"Jum'at\");\n",
    "        hari.put(7, \"Sabtu\");\n",
    "\n",
    "        // mencetak semua isi dari objek days\n",
    "        System.out.println(\"Isi objek days: \" + hari);"
   ]
  },
  {
   "cell_type": "markdown",
   "metadata": {},
   "source": [
    "Soal 7,8"
   ]
  },
  {
   "cell_type": "code",
   "execution_count": 15,
   "metadata": {},
   "outputs": [
    {
     "name": "stdout",
     "output_type": "stream",
     "text": [
      "Isi objek days: {1=Minggu, 2=Senin, 3=Selasa, 4=Rabu, 5=Kamis, 6=Jum'at, 7=Sabtu}\n",
      "Hari kedua: Senin\n"
     ]
    },
    {
     "data": {
      "text/plain": [
       "null"
      ]
     },
     "execution_count": 15,
     "metadata": {},
     "output_type": "execute_result"
    }
   ],
   "source": [
    "//program 7.8 \n",
    "        import java.util.HashMap;\n",
    "\n",
    "        // membuat objek hashmap\n",
    "        HashMap<Integer, String> harihari = new HashMap<Integer,String>();\n",
    "\n",
    "        // mengisi nilai ke objek hari\n",
    "        harihari.put(1, \"Minggu\");\n",
    "        harihari.put(2, \"Senin\");\n",
    "        harihari.put(3, \"Selasa\");\n",
    "        harihari.put(4, \"Rabu\");\n",
    "        harihari.put(5, \"Kamis\");\n",
    "        harihari.put(6, \"Jum'at\");\n",
    "        harihari.put(7, \"Sabtu\");\n",
    "\n",
    "        // mencetak semua isi dari objek hari\n",
    "        System.out.println(\"Isi objek days: \" + harihari);\n",
    "        // mengambil hari senin\n",
    "        System.out.println(\"Hari kedua: \" + harihari.get(2));"
   ]
  },
  {
   "cell_type": "markdown",
   "metadata": {},
   "source": [
    "Soal 7.9"
   ]
  },
  {
   "cell_type": "code",
   "execution_count": 16,
   "metadata": {},
   "outputs": [
    {
     "name": "stdout",
     "output_type": "stream",
     "text": [
      "Isi objek days: {1=Minggu, 2=Senin, 3=Selasa, 4=Rabu, 5=Kamis, 6=Jum'at, 7=Sabtu}\n",
      "Hari kedua: Senin\n",
      "Isi objek days: {2=Senin, 3=Selasa, 4=Rabu, 5=Kamis, 6=Jum'at, 7=Sabtu}\n",
      "Isi objek days: {}\n"
     ]
    },
    {
     "data": {
      "text/plain": [
       "null"
      ]
     },
     "execution_count": 16,
     "metadata": {},
     "output_type": "execute_result"
    }
   ],
   "source": [
    "import java.util.HashMap;\n",
    "\n",
    "        //Program 7.9\n",
    "\n",
    "        // membuat objek hashmap\n",
    "        HashMap<Integer, String> days = new HashMap<Integer,String>();\n",
    "\n",
    "        // mengisi nilai ke objek days\n",
    "        days.put(1, \"Minggu\");\n",
    "        days.put(2, \"Senin\");\n",
    "        days.put(3, \"Selasa\");\n",
    "        days.put(4, \"Rabu\");\n",
    "        days.put(5, \"Kamis\");\n",
    "        days.put(6, \"Jum'at\");\n",
    "        days.put(7, \"Sabtu\");\n",
    "\n",
    "        // mencetak semua isi dari objek days\n",
    "        System.out.println(\"Isi objek days: \" + days);\n",
    "        System.out.println(\"Hari kedua: \" + days.get(2));\n",
    "        // menghapus malam minggu <-- jomblo detected :D\n",
    "        days.remove(1);\n",
    "        System.out.println(\"Isi objek days: \" + days);\n",
    "\n",
    "        // menghapus semua hari <-- oh tidak kiamat donk!\n",
    "        days.clear();\n",
    "        System.out.println(\"Isi objek days: \" + days);"
   ]
  },
  {
   "cell_type": "markdown",
   "metadata": {},
   "source": [
    "Soal 7.10"
   ]
  },
  {
   "cell_type": "code",
   "execution_count": 17,
   "metadata": {},
   "outputs": [
    {
     "name": "stdout",
     "output_type": "stream",
     "text": [
      "Isi objek days: {1=Ahad, 2=Senin, 3=Selasa, 4=Rabo, 5=Kamis, 6=Jum'at, 7=Sabtu}\n"
     ]
    },
    {
     "data": {
      "text/plain": [
       "null"
      ]
     },
     "execution_count": 17,
     "metadata": {},
     "output_type": "execute_result"
    }
   ],
   "source": [
    "import java.util.HashMap;\n",
    "\n",
    "        //program 7.10\n",
    "\n",
    "        // membuat objek hashmap\n",
    "        HashMap<Integer, String> days = new HashMap<Integer,String>();\n",
    "\n",
    "        // mengisi nilai ke objek days\n",
    "        days.put(1, \"Minggu\");\n",
    "        days.put(2, \"Senin\");\n",
    "        days.put(3, \"Selasa\");\n",
    "        days.put(4, \"Rabu\");\n",
    "        days.put(5, \"Kamis\");\n",
    "        days.put(6, \"Jum'at\");\n",
    "        days.put(7, \"Sabtu\");\n",
    "\n",
    "        // mengubah hari menggu menjadi hari ahad\n",
    "        days.put(1, \"Ahad\");\n",
    "\n",
    "        // mengubah hari rabu menjadi rabo\n",
    "        days.replace(4, \"Rabo\");\n",
    "\n",
    "        // mencetak semua isi dari objek days\n",
    "        System.out.println(\"Isi objek days: \" + days);\n"
   ]
  },
  {
   "cell_type": "code",
   "execution_count": null,
   "metadata": {},
   "outputs": [],
   "source": [
    "Soal 7.11"
   ]
  },
  {
   "cell_type": "code",
   "execution_count": null,
   "metadata": {},
   "outputs": [],
   "source": [
    "public class Buku {\n",
    "\n",
    "    private String title;\n",
    "    private String author;\n",
    "\n",
    "    public Buku(String title, String author) {\n",
    "        this.title = title;\n",
    "        this.author = author;\n",
    "    }\n",
    "\n",
    "    public String getTitle() {\n",
    "        return title;\n",
    "    }\n",
    "\n",
    "    public void setTitle(String title) {\n",
    "        this.title = title;\n",
    "    }\n",
    "\n",
    "    public String getAuthor() {\n",
    "        return author;\n",
    "    }\n",
    "\n",
    "    public void setAuthor(String author) {\n",
    "        this.author = author;\n",
    "    }\n",
    "\n",
    "}\n"
   ]
  },
  {
   "cell_type": "markdown",
   "metadata": {},
   "source": [
    "Soal 7.12"
   ]
  },
  {
   "cell_type": "code",
   "execution_count": 20,
   "metadata": {},
   "outputs": [
    {
     "name": "stdout",
     "output_type": "stream",
     "text": [
      "java: Tutorial Java\n",
      "android: Pemrograman Android\n",
      "kotlin: Pemrograman Kotlin\n"
     ]
    },
    {
     "data": {
      "text/plain": [
       "null"
      ]
     },
     "execution_count": 20,
     "metadata": {},
     "output_type": "execute_result"
    }
   ],
   "source": [
    "// program 7.12\n",
    "\n",
    "import java.util.HashMap;\n",
    "import java.util.Map;\n",
    "\n",
    "        // membuat objek hashmap\n",
    "        HashMap<String, Buku> books = new HashMap<String, Buku>();\n",
    "\n",
    "        // membuat objek buku\n",
    "        Buku bukuJava = new Buku(\"Tutorial Java\", \"Petani Kode\");\n",
    "        Buku bukuKotlin = new Buku(\"Pemrograman Kotlin\", \"Petani Kode\");\n",
    "        Buku bukuAndroid = new Buku(\"Pemrograman Android\", \"Petani Kode\");\n",
    "\n",
    "        // mengisi objek hashmap dengan objek buku\n",
    "        books.put(\"java\", bukuJava);\n",
    "        books.put(\"kotlin\", bukuKotlin);\n",
    "        books.put(\"android\", bukuAndroid);\n",
    "\n",
    "        // cetak semua buku\n",
    "        for(Map.Entry b: books.entrySet()){\n",
    "            Buku buku = (Buku) b.getValue();\n",
    "            System.out.println(b.getKey() + \": \"+ buku.getTitle());\n",
    "        }"
   ]
  },
  {
   "cell_type": "code",
   "execution_count": null,
   "metadata": {},
   "outputs": [],
   "source": []
  }
 ],
 "metadata": {
  "kernelspec": {
   "display_name": "Java",
   "language": "java",
   "name": "java"
  },
  "language_info": {
   "codemirror_mode": "text/x-java",
   "file_extension": ".java",
   "mimetype": "",
   "name": "Java",
   "nbconverter_exporter": "",
   "version": "1.8.0_121"
  },
  "toc": {
   "base_numbering": 1,
   "nav_menu": {},
   "number_sections": false,
   "sideBar": false,
   "skip_h1_title": false,
   "title_cell": "Table of Contents",
   "title_sidebar": "Contents",
   "toc_cell": false,
   "toc_position": {},
   "toc_section_display": false,
   "toc_window_display": false
  }
 },
 "nbformat": 4,
 "nbformat_minor": 2
}
